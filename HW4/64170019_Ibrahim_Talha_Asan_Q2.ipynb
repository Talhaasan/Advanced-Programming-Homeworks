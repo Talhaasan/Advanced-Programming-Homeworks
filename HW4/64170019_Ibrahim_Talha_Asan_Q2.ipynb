{
 "cells": [
  {
   "cell_type": "code",
   "execution_count": 21,
   "metadata": {},
   "outputs": [],
   "source": [
    "from sklearn.neighbors import KNeighborsClassifier\n",
    "from sklearn import datasets\n",
    "import numpy as np\n",
    "import sklearn"
   ]
  },
  {
   "cell_type": "code",
   "execution_count": 22,
   "metadata": {},
   "outputs": [],
   "source": [
    "if int((sklearn.__version__).split(\".\")[1]) < 18:\n",
    "        from sklearn.cross_validation import train_test_split\n",
    " \n",
    "else:\n",
    "        from sklearn.model_selection import train_test_split"
   ]
  },
  {
   "cell_type": "code",
   "execution_count": 23,
   "metadata": {},
   "outputs": [],
   "source": [
    "mnist = datasets.load_digits()\n",
    " \n",
    "#divides the data set 75% training and %25 testing.\n",
    "(trainData, testData, trainLabels, testLabels) = train_test_split(np.array(mnist.data),\n",
    "        mnist.target, test_size=0.25, random_state=42)\n",
    "\n",
    "#it takes 10% of the testing to verify the output values.\n",
    "(trainData, valData, trainLabels, valLabels) = train_test_split(trainData, trainLabels,\n",
    "        test_size=0.1, random_state=84)"
   ]
  },
  {
   "cell_type": "code",
   "execution_count": 24,
   "metadata": {},
   "outputs": [
    {
     "name": "stdout",
     "output_type": "stream",
     "text": [
      "(1212, 64) (450, 64)\n",
      "(1212,) (450,)\n"
     ]
    }
   ],
   "source": [
    "print(trainData.shape, testData.shape)\n",
    "print(trainLabels.shape, testLabels.shape)"
   ]
  },
  {
   "cell_type": "code",
   "execution_count": 25,
   "metadata": {},
   "outputs": [
    {
     "name": "stdout",
     "output_type": "stream",
     "text": [
      "k=1, accuracy=99.26%\n",
      "k=3, accuracy=99.26%\n",
      "k=5, accuracy=99.26%\n",
      "k=7, accuracy=99.26%\n",
      "k=9, accuracy=99.26%\n",
      "k=11, accuracy=99.26%\n",
      "k=13, accuracy=99.26%\n",
      "k=15, accuracy=99.26%\n",
      "k=17, accuracy=98.52%\n",
      "k=19, accuracy=98.52%\n",
      "k=21, accuracy=97.78%\n",
      "k=23, accuracy=97.04%\n",
      "k=25, accuracy=97.78%\n",
      "k=27, accuracy=97.04%\n",
      "k=29, accuracy=97.04%\n",
      "k=31, accuracy=97.04%\n",
      "k=33, accuracy=97.78%\n",
      "k=35, accuracy=97.04%\n",
      "k=37, accuracy=97.04%\n",
      "k=39, accuracy=97.04%\n",
      "k=41, accuracy=97.04%\n",
      "k=43, accuracy=97.78%\n",
      "k=45, accuracy=97.04%\n",
      "k=47, accuracy=97.04%\n",
      "k=49, accuracy=97.04%\n"
     ]
    }
   ],
   "source": [
    "kVals = range(1, 50, 2)\n",
    "accuracies = []\n",
    " \n",
    "\n",
    "for k in range(1, 50, 2):\n",
    "      \n",
    "        model = KNeighborsClassifier(n_neighbors=k)\n",
    "        model.fit(trainData, trainLabels)\n",
    "        score = model.score(valData, valLabels)\n",
    "        print(\"k=%d, accuracy=%.2f%%\" % (k, score * 100))\n",
    "        accuracies.append(score)"
   ]
  },
  {
   "cell_type": "markdown",
   "metadata": {},
   "source": [
    "# Results\n",
    "\n",
    "## In different k values, the best accuracy value was obtained when the k value were equal to 1,3,5,7,9,11,13,15."
   ]
  }
 ],
 "metadata": {
  "kernelspec": {
   "display_name": "Python 3",
   "language": "python",
   "name": "python3"
  },
  "language_info": {
   "codemirror_mode": {
    "name": "ipython",
    "version": 3
   },
   "file_extension": ".py",
   "mimetype": "text/x-python",
   "name": "python",
   "nbconvert_exporter": "python",
   "pygments_lexer": "ipython3",
   "version": "3.8.5"
  }
 },
 "nbformat": 4,
 "nbformat_minor": 4
}
