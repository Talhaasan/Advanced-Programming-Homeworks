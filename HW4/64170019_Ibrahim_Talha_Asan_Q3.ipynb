{
 "cells": [
  {
   "cell_type": "code",
   "execution_count": 128,
   "metadata": {},
   "outputs": [],
   "source": [
    "import tensorflow as tf\n",
    "import matplotlib.pyplot as plt\n",
    "from keras.datasets import cifar10\n",
    "from keras.layers import Dense, Dropout, Activation,Flatten,Conv2D,MaxPooling2D\n",
    "from keras.models import Sequential, load_model\n",
    "\n",
    "(x_train, y_train), (x_test, y_test) = cifar10.load_data()\n",
    "labels = 10\n",
    "\n",
    "x_train  = x_train/255\n",
    "x_test  = x_test/255\n",
    "\n",
    "y_train = tf.keras.utils.to_categorical(y_train, num_classes)\n",
    "y_test = tf.keras.utils.to_categorical(y_test, num_classes)"
   ]
  },
  {
   "cell_type": "code",
   "execution_count": 129,
   "metadata": {
    "scrolled": true
   },
   "outputs": [
    {
     "name": "stdout",
     "output_type": "stream",
     "text": [
      "Model: \"sequential_15\"\n",
      "_________________________________________________________________\n",
      "Layer (type)                 Output Shape              Param #   \n",
      "=================================================================\n",
      "conv2d_27 (Conv2D)           (None, 32, 32, 16)        448       \n",
      "_________________________________________________________________\n",
      "activation_45 (Activation)   (None, 32, 32, 16)        0         \n",
      "_________________________________________________________________\n",
      "conv2d_28 (Conv2D)           (None, 30, 30, 32)        4640      \n",
      "_________________________________________________________________\n",
      "activation_46 (Activation)   (None, 30, 30, 32)        0         \n",
      "_________________________________________________________________\n",
      "max_pooling2d_12 (MaxPooling (None, 15, 15, 32)        0         \n",
      "_________________________________________________________________\n",
      "dropout_23 (Dropout)         (None, 15, 15, 32)        0         \n",
      "_________________________________________________________________\n",
      "flatten_11 (Flatten)         (None, 7200)              0         \n",
      "_________________________________________________________________\n",
      "dense_22 (Dense)             (None, 256)               1843456   \n",
      "_________________________________________________________________\n",
      "activation_47 (Activation)   (None, 256)               0         \n",
      "_________________________________________________________________\n",
      "dropout_24 (Dropout)         (None, 256)               0         \n",
      "_________________________________________________________________\n",
      "dense_23 (Dense)             (None, 10)                2570      \n",
      "_________________________________________________________________\n",
      "activation_48 (Activation)   (None, 10)                0         \n",
      "=================================================================\n",
      "Total params: 1,851,114\n",
      "Trainable params: 1,851,114\n",
      "Non-trainable params: 0\n",
      "_________________________________________________________________\n"
     ]
    }
   ],
   "source": [
    "model = Sequential()\n",
    "model.add(Conv2D(16, (3, 3), padding='same',input_shape=x_train.shape[1:]))\n",
    "model.add(Activation('relu'))\n",
    "model.add(Conv2D(32, (3, 3)))\n",
    "model.add(Activation('relu'))\n",
    "model.add(MaxPooling2D(pool_size=(2, 2)))\n",
    "model.add(Dropout(0.5))\n",
    "\n",
    "model.add(Flatten())\n",
    "model.add(Dense(256))\n",
    "model.add(Activation('relu'))\n",
    "model.add(Dropout(0.25))\n",
    "\n",
    "model.add(Dense(labels))\n",
    "model.add(Activation('softmax'))\n",
    "\n",
    "model.summary()\n"
   ]
  },
  {
   "cell_type": "code",
   "execution_count": 130,
   "metadata": {},
   "outputs": [
    {
     "name": "stdout",
     "output_type": "stream",
     "text": [
      "Epoch 1/25\n",
      "1563/1563 [==============================] - 64s 41ms/step - loss: 1.4381 - acc: 0.4809 - val_loss: 1.1463 - val_acc: 0.6080\n",
      "Epoch 2/25\n",
      "1563/1563 [==============================] - 64s 41ms/step - loss: 1.1194 - acc: 0.6024 - val_loss: 0.9771 - val_acc: 0.6574\n",
      "Epoch 3/25\n",
      "1563/1563 [==============================] - 63s 40ms/step - loss: 0.9942 - acc: 0.6472 - val_loss: 0.9198 - val_acc: 0.6760\n",
      "Epoch 4/25\n",
      "1563/1563 [==============================] - 65s 42ms/step - loss: 0.8983 - acc: 0.6839 - val_loss: 0.8816 - val_acc: 0.6933\n",
      "Epoch 5/25\n",
      "1563/1563 [==============================] - 66s 42ms/step - loss: 0.8258 - acc: 0.7096 - val_loss: 0.8496 - val_acc: 0.7049\n",
      "Epoch 6/25\n",
      "1563/1563 [==============================] - 65s 41ms/step - loss: 0.7624 - acc: 0.7287 - val_loss: 0.8403 - val_acc: 0.7151\n",
      "Epoch 7/25\n",
      "1563/1563 [==============================] - 67s 43ms/step - loss: 0.7093 - acc: 0.7484 - val_loss: 0.8414 - val_acc: 0.7112\n",
      "Epoch 8/25\n",
      "1563/1563 [==============================] - 64s 41ms/step - loss: 0.6586 - acc: 0.7671 - val_loss: 0.8382 - val_acc: 0.7113\n",
      "Epoch 9/25\n",
      "1563/1563 [==============================] - 64s 41ms/step - loss: 0.6148 - acc: 0.7832 - val_loss: 0.8757 - val_acc: 0.6979\n",
      "Epoch 10/25\n",
      "1563/1563 [==============================] - 64s 41ms/step - loss: 0.5894 - acc: 0.7899 - val_loss: 0.8442 - val_acc: 0.7174\n",
      "Epoch 11/25\n",
      "1563/1563 [==============================] - 65s 42ms/step - loss: 0.5507 - acc: 0.8031 - val_loss: 0.8592 - val_acc: 0.7179\n",
      "Epoch 12/25\n",
      "1563/1563 [==============================] - 65s 42ms/step - loss: 0.5180 - acc: 0.8168 - val_loss: 0.8490 - val_acc: 0.7190\n",
      "Epoch 13/25\n",
      "1563/1563 [==============================] - 64s 41ms/step - loss: 0.4946 - acc: 0.8243 - val_loss: 0.8507 - val_acc: 0.7209\n",
      "Epoch 14/25\n",
      "1563/1563 [==============================] - 64s 41ms/step - loss: 0.4726 - acc: 0.8318 - val_loss: 0.8802 - val_acc: 0.7127\n",
      "Epoch 15/25\n",
      "1563/1563 [==============================] - 63s 40ms/step - loss: 0.4524 - acc: 0.8382 - val_loss: 0.8963 - val_acc: 0.7216\n",
      "Epoch 16/25\n",
      "1563/1563 [==============================] - 66s 42ms/step - loss: 0.4460 - acc: 0.8446 - val_loss: 0.8636 - val_acc: 0.7274\n",
      "Epoch 17/25\n",
      "1563/1563 [==============================] - 63s 40ms/step - loss: 0.4235 - acc: 0.8506 - val_loss: 0.8718 - val_acc: 0.7221\n",
      "Epoch 18/25\n",
      "1563/1563 [==============================] - 64s 41ms/step - loss: 0.4060 - acc: 0.8556 - val_loss: 0.8748 - val_acc: 0.7158\n",
      "Epoch 19/25\n",
      "1563/1563 [==============================] - 67s 43ms/step - loss: 0.3890 - acc: 0.8623 - val_loss: 0.8860 - val_acc: 0.7218\n",
      "Epoch 20/25\n",
      "1563/1563 [==============================] - 65s 42ms/step - loss: 0.3835 - acc: 0.8644 - val_loss: 0.8987 - val_acc: 0.7170\n",
      "Epoch 21/25\n",
      "1563/1563 [==============================] - 64s 41ms/step - loss: 0.3734 - acc: 0.8693 - val_loss: 0.9219 - val_acc: 0.7175\n",
      "Epoch 22/25\n",
      "1563/1563 [==============================] - 65s 41ms/step - loss: 0.3612 - acc: 0.8753 - val_loss: 0.9068 - val_acc: 0.7253\n",
      "Epoch 23/25\n",
      "1563/1563 [==============================] - 66s 42ms/step - loss: 0.3591 - acc: 0.8744 - val_loss: 0.9010 - val_acc: 0.7268\n",
      "Epoch 24/25\n",
      "1563/1563 [==============================] - 67s 43ms/step - loss: 0.3353 - acc: 0.8823 - val_loss: 0.9979 - val_acc: 0.7074\n",
      "Epoch 25/25\n",
      "1563/1563 [==============================] - 68s 44ms/step - loss: 0.3401 - acc: 0.8807 - val_loss: 1.0166 - val_acc: 0.7080\n"
     ]
    }
   ],
   "source": [
    "model.compile(loss='categorical_crossentropy', optimizer='adam',metrics=['acc'])\n",
    "history = model.fit(x_train, y_train, epochs=25, batch_size=32, validation_data=(x_test, y_test))\n",
    "\n",
    "model.save('CNN_CIFAR.h5')\n",
    "model = load_model('CNN_CIFAR.h5')"
   ]
  },
  {
   "cell_type": "code",
   "execution_count": 131,
   "metadata": {},
   "outputs": [
    {
     "data": {
      "image/png": "[encoded data removed]",
      "text/plain": [
       "<Figure size 432x288 with 1 Axes>"
      ]
     },
     "metadata": {},
     "output_type": "display_data"
    },
    {
     "data": {
      "image/png": "[encoded data removed]",
      "text/plain": [
       "<Figure size 432x288 with 1 Axes>"
      ]
     },
     "metadata": {},
     "output_type": "display_data"
    }
   ],
   "source": [
    "plt.title('Accuracy Score')\n",
    "plt.plot(history.history['acc'])\n",
    "plt.plot(history.history['val_acc'])\n",
    "plt.show()\n",
    "\n",
    "plt.title('Loss Values')\n",
    "plt.plot(history.history['loss'])\n",
    "plt.plot(history.history['val_loss'])\n",
    "plt.show()"
   ]
  },
  {
   "cell_type": "markdown",
   "metadata": {},
   "source": [
    "# Results\n",
    "\n",
    "## epoch = 5\n",
    "### accuracy score max value is 0.78\n",
    "### loss value is 0.90\n",
    "\n",
    "## epoch = 10\n",
    "### accuracy score max value is 0.80\n",
    "### loss value is 1.4\n",
    "\n",
    "## epoch = 15\n",
    "### accuracy score max value is 0.85\n",
    "### loss value is 1.4\n",
    "\n",
    "## epoch = 20\n",
    "### accuracy score max value is 0.85\n",
    "### loss value is 1.4\n",
    "\n",
    "## epoch = 25\n",
    "### accuracy score max value is 0.90\n",
    "### loss value is 1.4\n",
    "\n",
    "## According to the results of different epoch trials, it is a more optimum result if the epoch value is equal to 25 (Accuracy score is higher than other epoch values). However, choosing the number of epochs may differ from case to case."
   ]
  },
  {
   "cell_type": "code",
   "execution_count": null,
   "metadata": {},
   "outputs": [],
   "source": []
  }
 ],
 "metadata": {
  "kernelspec": {
   "display_name": "Python 3",
   "language": "python",
   "name": "python3"
  },
  "language_info": {
   "codemirror_mode": {
    "name": "ipython",
    "version": 3
   },
   "file_extension": ".py",
   "mimetype": "text/x-python",
   "name": "python",
   "nbconvert_exporter": "python",
   "pygments_lexer": "ipython3",
   "version": "3.8.5"
  }
 },
 "nbformat": 4,
 "nbformat_minor": 4
}
